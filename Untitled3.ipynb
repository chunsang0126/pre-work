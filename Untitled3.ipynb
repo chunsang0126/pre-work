{
 "cells": [
  {
   "cell_type": "code",
   "execution_count": 10,
   "metadata": {},
   "outputs": [
    {
     "name": "stdout",
     "output_type": "stream",
     "text": [
      "Avg male height: 178.0121951219512\n",
      "Avg female height: 163.7\n"
     ]
    }
   ],
   "source": [
    "data = []\n",
    "\n",
    "with open('/Users/johnngai/Desktop/weight_height.csv', 'r') as f:\n",
    "    lines = f.readlines()\n",
    "    for line in lines:\n",
    "        data.append(line.split()[0].split(','))\n",
    "        \n",
    "male_heights = []\n",
    "female_heights = []\n",
    "for person in data [1:]:\n",
    "    height = int(person[2])\n",
    "    if person[0] == \"M\":\n",
    "        male_heights.append(height)\n",
    "    elif person[0] == \"F\":\n",
    "        female_heights.append(height)\n",
    "        \n",
    "avg_male_height = sum(male_heights)/ len(male_heights)\n",
    "avg_female_height = sum(female_heights) / len(female_heights)\n",
    "\n",
    "print(\"Avg male height:\", avg_male_height)\n",
    "print(\"Avg female height:\", avg_female_height)\n",
    "    "
   ]
  },
  {
   "cell_type": "code",
   "execution_count": 3,
   "metadata": {},
   "outputs": [],
   "source": [
    "male"
   ]
  },
  {
   "cell_type": "code",
   "execution_count": null,
   "metadata": {},
   "outputs": [],
   "source": []
  }
 ],
 "metadata": {
  "kernelspec": {
   "display_name": "Python 3",
   "language": "python",
   "name": "python3"
  },
  "language_info": {
   "codemirror_mode": {
    "name": "ipython",
    "version": 3
   },
   "file_extension": ".py",
   "mimetype": "text/x-python",
   "name": "python",
   "nbconvert_exporter": "python",
   "pygments_lexer": "ipython3",
   "version": "3.7.2"
  }
 },
 "nbformat": 4,
 "nbformat_minor": 2
}
